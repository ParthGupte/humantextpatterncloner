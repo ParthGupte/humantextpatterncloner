{
  "nbformat": 4,
  "nbformat_minor": 0,
  "metadata": {
    "colab": {
      "provenance": []
    },
    "kernelspec": {
      "name": "python3",
      "display_name": "Python 3"
    },
    "language_info": {
      "name": "python"
    }
  },
  "cells": [
    {
      "cell_type": "code",
      "execution_count": null,
      "metadata": {
        "id": "tovzZ9v53b66"
      },
      "outputs": [],
      "source": [
        "import tensorflow as tf\n",
        "from tensorflow import keras as ke\n",
        "import numpy as np\n",
        "import random as rd\n",
        "\n",
        "vocab_size = 10000\n",
        "dim = 200\n",
        "no_ofppl = 20\n",
        "input_sentsize = 30\n",
        "input_size_bot = dim*input_sentsize + no_ofppl"
      ]
    },
    {
      "cell_type": "code",
      "source": [
        "#word2vec\n",
        "\n",
        "def word2vec(vocab_size = vocab_size,h_size = dim):\n",
        "    model = ke.Sequential()\n",
        "    model.add(ke.layers.Dense(h_size, input_shape = (vocab_size,)))\n",
        "    model.add(ke.layers.Dense(vocab_size,activation = ke.activations.softmax))\n",
        "    return model"
      ],
      "metadata": {
        "id": "rRNnVPLW_b5Q"
      },
      "execution_count": null,
      "outputs": []
    },
    {
      "cell_type": "code",
      "source": [
        "#model creation\n",
        "word2vec_model = word2vec()\n",
        "word2vec_model.compile(loss=\"categorical_crossentropy\",optimizer='adam', metrics=['accuracy'])"
      ],
      "metadata": {
        "id": "UhoJOVY5P4of"
      },
      "execution_count": null,
      "outputs": []
    },
    {
      "cell_type": "code",
      "source": [
        "#training loop\n",
        "\n",
        "X = np.load(\"X.npy\")\n",
        "Y = np.load(\"Y.npy\")\n",
        "\n",
        "n = X.shape[0]\n",
        "\n",
        "no_of_epochs = 100\n",
        "batch_size = 50\n",
        "\n",
        "word2vec_model.fit(X,Y,epochs = no_of_epochs)"
      ],
      "metadata": {
        "colab": {
          "base_uri": "https://localhost:8080/",
          "height": 201
        },
        "id": "HjHizSNPQhRO",
        "outputId": "fa555c95-baa1-43dd-868d-f409f3aaf0a5"
      },
      "execution_count": null,
      "outputs": [
        {
          "output_type": "error",
          "ename": "ValueError",
          "evalue": "ignored",
          "traceback": [
            "\u001b[0;31m---------------------------------------------------------------------------\u001b[0m",
            "\u001b[0;31mValueError\u001b[0m                                Traceback (most recent call last)",
            "\u001b[0;32m<ipython-input-13-1c57caff7671>\u001b[0m in \u001b[0;36m<cell line: 9>\u001b[0;34m()\u001b[0m\n\u001b[1;32m     10\u001b[0m     \u001b[0mchoicelist\u001b[0m \u001b[0;34m=\u001b[0m \u001b[0mlist\u001b[0m\u001b[0;34m(\u001b[0m\u001b[0mrange\u001b[0m\u001b[0;34m(\u001b[0m\u001b[0mvocab_size\u001b[0m\u001b[0;34m)\u001b[0m\u001b[0;34m)\u001b[0m\u001b[0;34m\u001b[0m\u001b[0;34m\u001b[0m\u001b[0m\n\u001b[1;32m     11\u001b[0m     \u001b[0mbatch_idx\u001b[0m \u001b[0;34m=\u001b[0m \u001b[0mrd\u001b[0m\u001b[0;34m.\u001b[0m\u001b[0msample\u001b[0m\u001b[0;34m(\u001b[0m\u001b[0mchoicelist\u001b[0m\u001b[0;34m,\u001b[0m\u001b[0mbatch_size\u001b[0m\u001b[0;34m)\u001b[0m\u001b[0;34m\u001b[0m\u001b[0;34m\u001b[0m\u001b[0m\n\u001b[0;32m---> 12\u001b[0;31m     \u001b[0mchoicelist\u001b[0m\u001b[0;34m.\u001b[0m\u001b[0mremove\u001b[0m\u001b[0;34m(\u001b[0m\u001b[0mbatch_idx\u001b[0m\u001b[0;34m)\u001b[0m\u001b[0;34m\u001b[0m\u001b[0;34m\u001b[0m\u001b[0m\n\u001b[0m",
            "\u001b[0;31mValueError\u001b[0m: list.remove(x): x not in list"
          ]
        }
      ]
    },
    {
      "cell_type": "code",
      "source": [],
      "metadata": {
        "id": "zR-ZQmlCVgB8"
      },
      "execution_count": null,
      "outputs": []
    }
  ]
}